{
  "nbformat": 4,
  "nbformat_minor": 0,
  "metadata": {
    "colab": {
      "provenance": []
    },
    "kernelspec": {
      "name": "python3",
      "display_name": "Python 3"
    },
    "language_info": {
      "name": "python"
    }
  },
  "cells": [
    {
      "cell_type": "markdown",
      "source": [
        "# **PROJECT NAME - Torrent to Google Drive**\n",
        "# **NAME - NILADRI GHOSHAL**\n",
        "# **REG NO - RA2011003040003**\n",
        "# **COLLEGE NAME- SRM INSTITUTE OF SCIENCE AND TECHNOLOGY**\n",
        "\n",
        "\n"
      ],
      "metadata": {
        "id": "XzPKbI-oWzRg"
      }
    },
    {
      "cell_type": "markdown",
      "source": [
        "### 1. Go to 'Runtime'\n",
        "### 2. Click on 'Change Runtime Type'\n",
        "### 3. Change Hardware Accelerator to GPU and save it\n",
        "####   It will give you better download speed better efficiency"
      ],
      "metadata": {
        "id": "oi6z41yXW1QE"
      }
    },
    {
      "cell_type": "markdown",
      "source": [
        "# **Installing libtorrent python library**"
      ],
      "metadata": {
        "id": "U4qQC_PeUvRX"
      }
    },
    {
      "cell_type": "code",
      "execution_count": null,
      "metadata": {
        "id": "TiimIGWdl3oH"
      },
      "outputs": [],
      "source": [
        "!python -m pip install --upgrade pip setuptools wheel\n",
        "!python -m pip install lbry-libtorrent\n",
        "!apt install python3-libtorrent\n",
        " \n",
        "import libtorrent as lt\n",
        " \n",
        "ses = lt.session()\n",
        "ses.listen_on(6881, 6891)\n",
        "downloads = []"
      ]
    },
    {
      "cell_type": "markdown",
      "source": [
        "# **Mounting Google Drive**"
      ],
      "metadata": {
        "id": "yNRJVlLCU5xB"
      }
    },
    {
      "cell_type": "code",
      "source": [
        "from google.colab import drive\n",
        "drive.mount(\"/content/drive\")"
      ],
      "metadata": {
        "id": "Igv307awnqb9"
      },
      "execution_count": null,
      "outputs": []
    },
    {
      "cell_type": "markdown",
      "source": [
        "# **Set proper Download path Where you want to store your content**\n",
        "\n",
        "## and if you want to use **.torrent** file **Upload** it otherwise to use *Magnet Link* **Cancel** it"
      ],
      "metadata": {
        "id": "xgUEbSD6VAME"
      }
    },
    {
      "cell_type": "code",
      "source": [
        "from google.colab import files\n",
        "source = files.upload()\n",
        "params = {\n",
        "    \"save_path\": \"/content/drive/MyDrive/Torrents\",\n",
        "    \"ti\": lt.torrent_info(list(source.keys())[0]),\n",
        "}\n",
        "downloads.append(ses.add_torrent(params))"
      ],
      "metadata": {
        "id": "2wwW1S7FoAsU"
      },
      "execution_count": null,
      "outputs": []
    },
    {
      "cell_type": "markdown",
      "source": [
        "### *If you are using Magnet Link*\n",
        "# **Enter Magnet link** and press Enter SKIP otherwise\n",
        "\n",
        "## You can enter any number of Magnet links One by one and press Enter\n",
        "\n",
        "### Once you finish entering Magnet link write 'exit' and press enter\n",
        "\n"
      ],
      "metadata": {
        "id": "ZzzmjzVnVgQI"
      }
    },
    {
      "cell_type": "code",
      "source": [
        "params = {\"save_path\": \"/content/drive/MyDrive/Torrents\"}\n",
        "while True:\n",
        "    magnet_link = input(\"Enter Magnet Link Or Type Exit: \")\n",
        "    if magnet_link.lower() == \"exit\":\n",
        "        break\n",
        "    downloads.append(\n",
        "        lt.add_magnet_uri(ses, magnet_link, params)\n",
        "    )"
      ],
      "metadata": {
        "colab": {
          "base_uri": "https://localhost:8080/"
        },
        "id": "eQebKVZHopfa",
        "outputId": "a23cd2a3-45c1-4aff-f3e2-79afa10c0e5c"
      },
      "execution_count": null,
      "outputs": [
        {
          "name": "stdout",
          "output_type": "stream",
          "text": [
            "Enter Magnet Link Or Type Exit: exit\n"
          ]
        }
      ]
    },
    {
      "cell_type": "markdown",
      "source": [
        "# **Start Download and ENJOY!!**\n",
        "# **٩(^ᴗ^)۶**"
      ],
      "metadata": {
        "id": "bjDSTBGuWL80"
      }
    },
    {
      "cell_type": "code",
      "source": [
        "import time\n",
        "from IPython.display import display\n",
        "import ipywidgets as widgets\n",
        " \n",
        "state_str = [\n",
        "    \"queued\",\n",
        "    \"checking\",\n",
        "    \"downloading metadata\",\n",
        "    \"downloading\",\n",
        "    \"finished\",\n",
        "    \"seeding\",\n",
        "    \"allocating\",\n",
        "    \"checking fastresume\",\n",
        "]\n",
        " \n",
        "layout = widgets.Layout(width=\"auto\")\n",
        "style = {\"description_width\": \"initial\"}\n",
        "download_bars = [\n",
        "    widgets.FloatSlider(\n",
        "        step=0.01, disabled=True, layout=layout, style=style\n",
        "    )\n",
        "    for _ in downloads\n",
        "]\n",
        "display(*download_bars)\n",
        " \n",
        "while downloads:\n",
        "    next_shift = 0\n",
        "    for index, download in enumerate(downloads[:]):\n",
        "        bar = download_bars[index + next_shift]\n",
        "        if not download.is_seed():\n",
        "            s = download.status()\n",
        " \n",
        "            bar.description = \" \".join(\n",
        "                [\n",
        "                    download.name(),\n",
        "                    str(s.download_rate / 1000),\n",
        "                    \"kB/s\",\n",
        "                    state_str[s.state],\n",
        "                ]\n",
        "            )\n",
        "            bar.value = s.progress * 100\n",
        "        else:\n",
        "            next_shift -= 1\n",
        "            ses.remove_torrent(download)\n",
        "            downloads.remove(download)\n",
        "            bar.close() \n",
        "            download_bars.remove(bar)\n",
        "            print(download.name(), \"complete\")\n",
        "    time.sleep(1)"
      ],
      "metadata": {
        "id": "RzpaKCTlpOPX"
      },
      "execution_count": null,
      "outputs": []
    }
  ]
}